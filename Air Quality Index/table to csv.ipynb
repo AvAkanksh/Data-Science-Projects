{
 "cells": [
  {
   "cell_type": "code",
   "execution_count": 2,
   "id": "f6f29f8e",
   "metadata": {
    "ExecuteTime": {
     "end_time": "2021-05-29T09:01:58.996631Z",
     "start_time": "2021-05-29T09:01:47.979049Z"
    }
   },
   "outputs": [],
   "source": [
    "from bs4 import BeautifulSoup\n",
    "import requests\n",
    "import pandas as pd\n",
    "import numpy as np\n",
    "import os\n",
    "import sys\n",
    "import csv\n",
    "from Plot_AQI import avg_data_2013 , avg_data_2014 , avg_data_2015 , avg_data_2016 \n"
   ]
  },
  {
   "cell_type": "code",
   "execution_count": 3,
   "id": "0e62ee06",
   "metadata": {
    "ExecuteTime": {
     "end_time": "2021-05-29T09:01:59.174991Z",
     "start_time": "2021-05-29T09:01:59.002553Z"
    }
   },
   "outputs": [],
   "source": [
    "year = 2013\n",
    "month = 1\n",
    "file = open(f'Data/Html_data/{year}/{month}.html','r').read()\n",
    "soup = BeautifulSoup(file,'lxml')"
   ]
  },
  {
   "cell_type": "code",
   "execution_count": 4,
   "id": "75223705",
   "metadata": {
    "ExecuteTime": {
     "end_time": "2021-05-29T09:01:59.355725Z",
     "start_time": "2021-05-29T09:01:59.180524Z"
    }
   },
   "outputs": [],
   "source": [
    "tempD = []\n",
    "finalD = []"
   ]
  },
  {
   "cell_type": "code",
   "execution_count": 40,
   "id": "56f55415",
   "metadata": {
    "ExecuteTime": {
     "end_time": "2021-05-29T09:11:53.399170Z",
     "start_time": "2021-05-29T09:11:53.360366Z"
    }
   },
   "outputs": [
    {
     "name": "stdout",
     "output_type": "stream",
     "text": [
      "1015.6\n",
      "2\n",
      "3\n",
      "4\n",
      "5\n",
      "6\n",
      "7\n",
      "8\n",
      "9\n",
      "10\n",
      "11\n",
      "12\n",
      "13\n",
      "14\n",
      "15\n",
      "16\n",
      "17\n",
      "18\n",
      "19\n",
      "20\n",
      "21\n",
      "22\n",
      "23\n",
      "24\n",
      "25\n",
      "26\n",
      "27\n",
      "28\n",
      "29\n",
      "30\n",
      "31\n",
      "Monthly means and totals:\n",
      " \n"
     ]
    }
   ],
   "source": [
    "i = 0\n",
    "for table in soup.find_all('table',{'class':'medias mensuales numspan'}):\n",
    "    for tbody in table:\n",
    "        for tr in tbody:\n",
    "            if i <= 18:\n",
    "                i+=1\n",
    "                continue\n",
    "            print(tr.get_text())\n",
    "            break"
   ]
  },
  {
   "cell_type": "code",
   "execution_count": null,
   "id": "fc72b104",
   "metadata": {},
   "outputs": [],
   "source": []
  }
 ],
 "metadata": {
  "kernelspec": {
   "display_name": "Python 3",
   "language": "python",
   "name": "python3"
  },
  "language_info": {
   "codemirror_mode": {
    "name": "ipython",
    "version": 3
   },
   "file_extension": ".py",
   "mimetype": "text/x-python",
   "name": "python",
   "nbconvert_exporter": "python",
   "pygments_lexer": "ipython3",
   "version": "3.8.5"
  },
  "toc": {
   "base_numbering": 1,
   "nav_menu": {},
   "number_sections": true,
   "sideBar": true,
   "skip_h1_title": false,
   "title_cell": "Table of Contents",
   "title_sidebar": "Contents",
   "toc_cell": false,
   "toc_position": {},
   "toc_section_display": true,
   "toc_window_display": false
  }
 },
 "nbformat": 4,
 "nbformat_minor": 5
}
